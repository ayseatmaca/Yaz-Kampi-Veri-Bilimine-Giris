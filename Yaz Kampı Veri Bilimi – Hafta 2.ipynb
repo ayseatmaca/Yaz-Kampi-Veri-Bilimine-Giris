{
 "cells": [
  {
   "cell_type": "markdown",
   "id": "3fd0a47a-de8f-478d-a612-64d4c8ea1d91",
   "metadata": {},
   "source": [
    "# Haftalık Ödev – Yaz Kampı: Veri Bilimi – Hafta 2\n",
    "Hedef\n",
    "• Koşullu durumları (if/elif/else) uygulamak\n",
    "• Döngüler (for, while) ile veri işlemek\n",
    "• String metotları ve listeler üzerinde alıştırmalar yapmak\n",
    "• Temel veri işleme becerilerini geliştirmek"
   ]
  },
  {
   "cell_type": "markdown",
   "id": "c10537a7-90be-4bf4-b979-133b702800c2",
   "metadata": {},
   "source": [
    "# Soru 1 – Sayı Analizi"
   ]
  },
  {
   "cell_type": "code",
   "execution_count": 13,
   "id": "8aa1ad4d-3ee3-40c0-b3cf-c589f450ef47",
   "metadata": {
    "scrolled": true
   },
   "outputs": [
    {
     "name": "stdin",
     "output_type": "stream",
     "text": [
      "lütfen sayı giriniz. -5\n"
     ]
    },
    {
     "name": "stdout",
     "output_type": "stream",
     "text": [
      "pozitif tek\n"
     ]
    }
   ],
   "source": [
    "x = int(input(\"lütfen sayı giriniz.\"))\n",
    "if x>0:\n",
    "    if x%2==0:\n",
    "        print(\"pozitif çift\")\n",
    "    else:\n",
    "        print(\"pozitif tek\")\n",
    "\n",
    "elif x<0:\n",
    "    if x%2==0:\n",
    "        print(\"pozitif çift\")\n",
    "    else:\n",
    "        print(\"pozitif tek\")\n",
    "else:\n",
    "    print(\"sıfır\")"
   ]
  },
  {
   "cell_type": "markdown",
   "id": "d5006d02-5624-42be-9d1b-bac72ed573df",
   "metadata": {},
   "source": [
    "# Soru 2 – Harf Frekansı (String)"
   ]
  },
  {
   "cell_type": "code",
   "execution_count": 16,
   "id": "29b77b89-07d3-4153-ad7c-c2a37eccf0d8",
   "metadata": {
    "scrolled": true
   },
   "outputs": [
    {
     "name": "stdin",
     "output_type": "stream",
     "text": [
      "lütfen bir kelime giriniz. ala\n"
     ]
    },
    {
     "name": "stdout",
     "output_type": "stream",
     "text": [
      "{'a': 2, 'l': 1}\n"
     ]
    }
   ],
   "source": [
    "kelime = input(\"lütfen bir kelime giriniz.\")\n",
    "harf_sayilari = {}\n",
    "for harf in kelime:\n",
    "    if harf in harf_sayilari:\n",
    "        harf_sayilari[harf] += 1\n",
    "    else:\n",
    "        harf_sayilari[harf] = 1\n",
    "print(harf_sayilari)"
   ]
  },
  {
   "cell_type": "markdown",
   "id": "866e6fe2-6164-4668-a4db-e0d4a0c83ec7",
   "metadata": {},
   "source": [
    "# Soru 3 – Şifre Kontrolü (String Metotları)"
   ]
  },
  {
   "cell_type": "code",
   "execution_count": 24,
   "id": "0afe43da-1e55-404a-97fb-c0b8f1cd3b6a",
   "metadata": {
    "scrolled": true
   },
   "outputs": [
    {
     "name": "stdin",
     "output_type": "stream",
     "text": [
      "Lütfen bir şifre giriniz. awda4\n"
     ]
    },
    {
     "name": "stdout",
     "output_type": "stream",
     "text": [
      "Şifre geçersiz! Lütfen şu koşulları sağlayın:\n",
      "- En az 8 karakter olmalı.\n",
      "- En az 1 büyük harf içermeli.\n"
     ]
    }
   ],
   "source": [
    "sifre = input(\"Lütfen bir şifre giriniz.\")\n",
    "# Koşulları kontrol et\n",
    "uzunluk_kontrol = len(sifre) >= 8\n",
    "buyuk_harf_kontrol = any(harf.isupper() for harf in sifre)\n",
    "rakam_kontrol = any(harf.isdigit() for harf in sifre)\n",
    "#Python’da any() fonksiyonu, verilen bir iterable (liste, string, tuple vb.) içindeki elemanlardan en az biri True ise True döner.\n",
    "if uzunluk_kontrol and buyuk_harf_kontrol and rakam_kontrol:\n",
    "    print(\"Şifre geçerli!\")\n",
    "else:\n",
    "    print(\"Şifre geçersiz! Lütfen şu koşulları sağlayın:\")\n",
    "    if not uzunluk_kontrol:\n",
    "        print(\"- En az 8 karakter olmalı.\")\n",
    "    if not buyuk_harf_kontrol:\n",
    "        print(\"- En az 1 büyük harf içermeli.\")\n",
    "    if not rakam_kontrol:\n",
    "        print(\"- En az 1 rakam içermeli.\")"
   ]
  },
  {
   "cell_type": "markdown",
   "id": "6903e9af-33b4-4106-9717-0bedad6054ef",
   "metadata": {},
   "source": [
    "# Soru 4 – Liste İşlemleri"
   ]
  },
  {
   "cell_type": "code",
   "execution_count": 26,
   "id": "e214eaf5-fcc6-4572-9765-c29aa08cdd04",
   "metadata": {
    "scrolled": true
   },
   "outputs": [
    {
     "name": "stdout",
     "output_type": "stream",
     "text": [
      "Liste: [12, 4, 9, 25, 30, 7, 18]\n",
      "Ortalama: 15.0\n",
      "Ortalamadan büyük sayılar: [25, 30, 18]\n"
     ]
    }
   ],
   "source": [
    "sayilar = [12, 4, 9, 25, 30, 7, 18]\n",
    "ortalama = sum(sayilar) / len(sayilar)\n",
    "buyukler = [sayi for sayi in sayilar if sayi > ortalama]\n",
    "print(\"Liste:\", sayilar)\n",
    "print(\"Ortalama:\", ortalama)\n",
    "print(\"Ortalamadan büyük sayılar:\", buyukler)"
   ]
  },
  {
   "cell_type": "markdown",
   "id": "9189ace5-9679-4b23-9503-9d26cd8cd9ea",
   "metadata": {},
   "source": [
    "# Soru 5 – Nested Loop (Desen)"
   ]
  },
  {
   "cell_type": "code",
   "execution_count": 31,
   "id": "65a47258-9e07-4b0c-8b8d-18df21159605",
   "metadata": {
    "scrolled": true
   },
   "outputs": [
    {
     "name": "stdout",
     "output_type": "stream",
     "text": [
      "*\n",
      "**\n",
      "***\n",
      "****\n",
      "*****\n"
     ]
    }
   ],
   "source": [
    "for i in range(1, 6):\n",
    "    print(\"*\" * i)"
   ]
  },
  {
   "cell_type": "markdown",
   "id": "4472ebe9-d5fd-4616-a981-29f654d59785",
   "metadata": {},
   "source": [
    "# Soru 6 – While Döngüsü"
   ]
  },
  {
   "cell_type": "code",
   "execution_count": 34,
   "id": "49555024-907e-409f-a117-2ecb7aeef1b9",
   "metadata": {
    "scrolled": true
   },
   "outputs": [
    {
     "name": "stdin",
     "output_type": "stream",
     "text": [
      "Bir sayı giriniz (0 = çıkış):  0\n"
     ]
    },
    {
     "name": "stdout",
     "output_type": "stream",
     "text": [
      "Hiç sayı girilmedi.\n"
     ]
    }
   ],
   "source": [
    "toplam = 0\n",
    "adet = 0\n",
    "\n",
    "while True:\n",
    "    sayi = int(input(\"Bir sayı giriniz (0 = çıkış): \"))\n",
    "    \n",
    "    if sayi == 0:\n",
    "        break\n",
    "    \n",
    "    toplam += sayi\n",
    "    adet += 1\n",
    "    \n",
    "if adet > 0:\n",
    "    ortalama = toplam / adet\n",
    "    print(\"Girilen sayıların toplamı:\", toplam)\n",
    "    print(\"Girilen sayıların ortalaması:\", ortalama)\n",
    "else:\n",
    "    print(\"Hiç sayı girilmedi.\")\n"
   ]
  },
  {
   "cell_type": "markdown",
   "id": "79994437-a5ff-4af2-8a43-577d5cd2a968",
   "metadata": {},
   "source": [
    "# Soru 7 – Palindrom Kontrolü"
   ]
  },
  {
   "cell_type": "code",
   "execution_count": 37,
   "id": "33c5a29b-2c52-465a-87bf-2d38251017e7",
   "metadata": {
    "scrolled": true
   },
   "outputs": [
    {
     "name": "stdin",
     "output_type": "stream",
     "text": [
      "Bir kelime giriniz:  asa\n"
     ]
    },
    {
     "name": "stdout",
     "output_type": "stream",
     "text": [
      "Palindrom\n"
     ]
    }
   ],
   "source": [
    "kelime = input(\"Bir kelime giriniz: \")\n",
    "if kelime == kelime[::-1]:\n",
    "    print(\"Palindrom\")\n",
    "else:\n",
    "    print(\"Palindrom değil\")"
   ]
  },
  {
   "cell_type": "markdown",
   "id": "e5a42118-2517-4621-b24d-ea329de13e58",
   "metadata": {},
   "source": [
    "# Soru 8 – List Comprehension"
   ]
  },
  {
   "cell_type": "code",
   "execution_count": 42,
   "id": "f4fbb641-8a94-46b3-83a3-17f45b2ab1f7",
   "metadata": {
    "scrolled": true
   },
   "outputs": [
    {
     "name": "stdout",
     "output_type": "stream",
     "text": [
      "[225, 900, 2025, 3600, 5625, 8100]\n"
     ]
    }
   ],
   "source": [
    "liste = [x**2 for x in range(1,101) if x%3==0 and x%5==0]\n",
    "print(liste)"
   ]
  },
  {
   "cell_type": "markdown",
   "id": "b910dad9-cce2-4dfc-bab7-46b62f4c4b36",
   "metadata": {},
   "source": [
    "# Soru 9 – String İşlemleri"
   ]
  },
  {
   "cell_type": "code",
   "execution_count": 50,
   "id": "e3a065de-769f-4525-9895-33a619cf87d1",
   "metadata": {
    "scrolled": true
   },
   "outputs": [
    {
     "name": "stdin",
     "output_type": "stream",
     "text": [
      "Bir cümle giriniz:  lo lo lo loasa\n"
     ]
    },
    {
     "name": "stdout",
     "output_type": "stream",
     "text": [
      "Lo Lo Lo Loasa\n"
     ]
    }
   ],
   "source": [
    "cumle = input(\"Bir cümle giriniz: \")\n",
    "kelimeler = cumle.split()\n",
    "yeni_kelimeler = [kelime.capitalize() for kelime in kelimeler]\n",
    "yeni_cumle = \" \".join(yeni_kelimeler)\n",
    "print(yeni_cumle)"
   ]
  },
  {
   "cell_type": "markdown",
   "id": "ab9c3fe1-11c3-4161-8f3d-9f53f16667b9",
   "metadata": {},
   "source": [
    "# Mini Proje – Film Yorumu Analizi"
   ]
  },
  {
   "cell_type": "code",
   "execution_count": 52,
   "id": "3ca7eb42-3491-483e-a865-c6f07374a960",
   "metadata": {
    "scrolled": true
   },
   "outputs": [
    {
     "name": "stdin",
     "output_type": "stream",
     "text": [
      "Kaç yorum gireceksiniz?  2\n",
      "1. yorumu giriniz:  iyi olmuş\n",
      "2. yorumu giriniz:  kotuydu\n"
     ]
    },
    {
     "name": "stdout",
     "output_type": "stream",
     "text": [
      "Toplam yorum sayısı: 2\n",
      "\"iyi\" geçen yorum sayısı: 1\n",
      "En uzun yorum: iyi olmuş\n",
      "En kısa yorum: kotuydu\n",
      "Ortalama uzunluk: 8.0 karakter\n"
     ]
    }
   ],
   "source": [
    "yorumlar = []\n",
    "n = int(input(\"Kaç yorum gireceksiniz? \"))\n",
    "\n",
    "for i in range(n):\n",
    "    yorum = input(f\"{i+1}. yorumu giriniz: \")\n",
    "    yorumlar.append(yorum)\n",
    "\n",
    "uzunluklar = [len(y) for y in yorumlar]\n",
    "\n",
    "iyi_sayisi = sum(1 for y in yorumlar if \"iyi\" in y.lower())\n",
    "\n",
    "en_uzun = max(yorumlar, key=len)\n",
    "en_kisa = min(yorumlar, key=len)\n",
    "\n",
    "ortalama = sum(uzunluklar) / len(yorumlar)\n",
    "\n",
    "print(\"Toplam yorum sayısı:\", len(yorumlar))\n",
    "print('\"iyi\" geçen yorum sayısı:', iyi_sayisi)\n",
    "print(\"En uzun yorum:\", en_uzun)\n",
    "print(\"En kısa yorum:\", en_kisa)\n",
    "print(\"Ortalama uzunluk:\", round(ortalama, 1), \"karakter\")"
   ]
  },
  {
   "cell_type": "markdown",
   "id": "f18679ef-d6bd-440c-b8d3-11f0002bf286",
   "metadata": {},
   "source": [
    "# Ayşe Atmaca"
   ]
  },
  {
   "cell_type": "code",
   "execution_count": null,
   "id": "f59173e4-7bfc-45f4-998b-a2a02a13c276",
   "metadata": {},
   "outputs": [],
   "source": []
  }
 ],
 "metadata": {
  "kernelspec": {
   "display_name": "Python 3 (ipykernel)",
   "language": "python",
   "name": "python3"
  },
  "language_info": {
   "codemirror_mode": {
    "name": "ipython",
    "version": 3
   },
   "file_extension": ".py",
   "mimetype": "text/x-python",
   "name": "python",
   "nbconvert_exporter": "python",
   "pygments_lexer": "ipython3",
   "version": "3.12.7"
  }
 },
 "nbformat": 4,
 "nbformat_minor": 5
}
