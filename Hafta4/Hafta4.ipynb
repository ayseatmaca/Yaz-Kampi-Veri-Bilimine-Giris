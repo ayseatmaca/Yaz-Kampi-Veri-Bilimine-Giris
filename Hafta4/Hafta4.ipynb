{
 "cells": [
  {
   "cell_type": "code",
   "execution_count": 1,
   "id": "a32250b2-9a9e-4dc3-92bc-68aba9cb8e62",
   "metadata": {},
   "outputs": [],
   "source": [
    "import numpy as np\n",
    "import pandas as pd"
   ]
  },
  {
   "cell_type": "code",
   "execution_count": 9,
   "id": "9f9408be-e1e8-4978-b56f-454afd2bc44c",
   "metadata": {},
   "outputs": [
    {
     "data": {
      "text/plain": [
       "array([[51, 92, 14, 71, 60],\n",
       "       [20, 82, 86, 74, 74],\n",
       "       [87, 99, 23,  2, 21],\n",
       "       [52,  1, 87, 29, 37],\n",
       "       [ 1, 63, 59, 20, 32]])"
      ]
     },
     "execution_count": 9,
     "metadata": {},
     "output_type": "execute_result"
    }
   ],
   "source": [
    "#Numpy Bölümü \n",
    "# 1.Bölüm \n",
    "\n",
    "np.random.seed(42) #Değerelrin her çalıştırıldığında değişmemesini sağlar.\n",
    "matris = np.random.randint(0,100, size=(5,5))\n",
    "matris"
   ]
  },
  {
   "cell_type": "code",
   "execution_count": 13,
   "id": "0a412b7b-2eac-4682-a8b4-173b2b5fdbd0",
   "metadata": {},
   "outputs": [
    {
     "name": "stdout",
     "output_type": "stream",
     "text": [
      "matrisin ortalaması : 49.48\n",
      "matrisin standart sapması  : 30.899993527507412\n",
      "matrisin varyansı  : 954.8095999999999\n",
      "matrisin en küçük elemanı  : 1\n",
      "matrisin en büyük elemanı  : 99\n"
     ]
    }
   ],
   "source": [
    "ortalama = np.mean(matris)\n",
    "standart_sapma = np.std(matris)\n",
    "varyans = np.var(matris)\n",
    "\n",
    "en_kuçuk = np.min(matris)\n",
    "en_buyuk = np.max(matris)\n",
    "\n",
    "print(f'matrisin ortalaması : {ortalama}')\n",
    "print(f'matrisin standart sapması  : {standart_sapma}')\n",
    "print(f'matrisin varyansı  : {varyans}')\n",
    "print(f'matrisin en küçük elemanı  : {en_kuçuk}')\n",
    "print(f'matrisin en büyük elemanı  : {en_buyuk}')"
   ]
  },
  {
   "cell_type": "code",
   "execution_count": 19,
   "id": "3e411c84-d498-48c3-9ee2-b6912e8de465",
   "metadata": {},
   "outputs": [
    {
     "name": "stdout",
     "output_type": "stream",
     "text": [
      "217\n"
     ]
    }
   ],
   "source": [
    "kosegen_toplam = np.trace(matris)\n",
    "kosegen_elemanları = np.diag(matris)\n",
    "print(kosegen_toplam)"
   ]
  },
  {
   "cell_type": "code",
   "execution_count": null,
   "id": "d26fb4e7-8ad5-4918-b51c-48e52185fd7f",
   "metadata": {},
   "outputs": [],
   "source": [
    "# 2.Bölüm"
   ]
  },
  {
   "cell_type": "code",
   "execution_count": 21,
   "id": "a6036e47-bd4c-4699-ab75-243349f994a5",
   "metadata": {},
   "outputs": [
    {
     "name": "stdout",
     "output_type": "stream",
     "text": [
      "Ortalama: 70.14706602708202\n",
      "Medyan: 70.37950918352333\n",
      "Standart sapma: 14.329206857108888\n",
      "50’den düşük alan öğrenci sayısı: 85\n"
     ]
    }
   ],
   "source": [
    "# 50 den düşük alan öğrencilerinin sayısı\n",
    "# 1000 öğrencinin sınav puanlarını 0-100 arası normal dağılımdan üretelim\n",
    "np.random.seed(42)  # Tekrarlanabilirlik için sabit seed\n",
    "puanlar = np.random.normal(loc=70, scale=15, size=1000)  # Ortalama 70, std 15\n",
    "\n",
    "# Puanları 0-100 arası sınırlayalım\n",
    "puanlar = np.clip(puanlar, 0, 100)\n",
    "\n",
    "# Ortalama, medyan ve standart sapma\n",
    "ortalama = np.mean(puanlar)\n",
    "medyan = np.median(puanlar)\n",
    "std = np.std(puanlar, ddof=0)  # population std\n",
    "\n",
    "# 50'den düşük alan öğrenci sayısı\n",
    "kirkalti_alti = np.sum(puanlar < 50)\n",
    "\n",
    "print(\"Ortalama:\", ortalama)\n",
    "print(\"Medyan:\", medyan)\n",
    "print(\"Standart sapma:\", std)\n",
    "print(\"50’den düşük alan öğrenci sayısı:\", kirkalti_alti)"
   ]
  },
  {
   "cell_type": "code",
   "execution_count": 23,
   "id": "075737f5-002c-4e24-a9d8-d436a6e622dc",
   "metadata": {},
   "outputs": [
    {
     "data": {
      "text/html": [
       "<div>\n",
       "<style scoped>\n",
       "    .dataframe tbody tr th:only-of-type {\n",
       "        vertical-align: middle;\n",
       "    }\n",
       "\n",
       "    .dataframe tbody tr th {\n",
       "        vertical-align: top;\n",
       "    }\n",
       "\n",
       "    .dataframe thead th {\n",
       "        text-align: right;\n",
       "    }\n",
       "</style>\n",
       "<table border=\"1\" class=\"dataframe\">\n",
       "  <thead>\n",
       "    <tr style=\"text-align: right;\">\n",
       "      <th></th>\n",
       "      <th>Öğrenci</th>\n",
       "      <th>Yaş</th>\n",
       "      <th>Bölüm</th>\n",
       "      <th>Matematik</th>\n",
       "      <th>Fizik</th>\n",
       "      <th>Kimya</th>\n",
       "    </tr>\n",
       "  </thead>\n",
       "  <tbody>\n",
       "    <tr>\n",
       "      <th>0</th>\n",
       "      <td>Ali</td>\n",
       "      <td>20</td>\n",
       "      <td>Bilgisayar</td>\n",
       "      <td>70</td>\n",
       "      <td>65</td>\n",
       "      <td>80</td>\n",
       "    </tr>\n",
       "    <tr>\n",
       "      <th>1</th>\n",
       "      <td>Ayşe</td>\n",
       "      <td>21</td>\n",
       "      <td>Fizik</td>\n",
       "      <td>60</td>\n",
       "      <td>75</td>\n",
       "      <td>85</td>\n",
       "    </tr>\n",
       "    <tr>\n",
       "      <th>2</th>\n",
       "      <td>Mehmet</td>\n",
       "      <td>19</td>\n",
       "      <td>Kimya</td>\n",
       "      <td>80</td>\n",
       "      <td>70</td>\n",
       "      <td>65</td>\n",
       "    </tr>\n",
       "    <tr>\n",
       "      <th>3</th>\n",
       "      <td>Zeynep</td>\n",
       "      <td>22</td>\n",
       "      <td>Bilgisayar</td>\n",
       "      <td>90</td>\n",
       "      <td>85</td>\n",
       "      <td>95</td>\n",
       "    </tr>\n",
       "    <tr>\n",
       "      <th>4</th>\n",
       "      <td>Ahmet</td>\n",
       "      <td>20</td>\n",
       "      <td>Fizik</td>\n",
       "      <td>55</td>\n",
       "      <td>60</td>\n",
       "      <td>70</td>\n",
       "    </tr>\n",
       "  </tbody>\n",
       "</table>\n",
       "</div>"
      ],
      "text/plain": [
       "  Öğrenci  Yaş       Bölüm  Matematik  Fizik  Kimya\n",
       "0     Ali   20  Bilgisayar         70     65     80\n",
       "1    Ayşe   21       Fizik         60     75     85\n",
       "2  Mehmet   19       Kimya         80     70     65\n",
       "3  Zeynep   22  Bilgisayar         90     85     95\n",
       "4   Ahmet   20       Fizik         55     60     70"
      ]
     },
     "execution_count": 23,
     "metadata": {},
     "output_type": "execute_result"
    }
   ],
   "source": [
    "# Pandas Bölümü\n",
    "\n",
    "data  = {\n",
    "    \"Öğrenci\": [\"Ali\", \"Ayşe\", \"Mehmet\", \"Zeynep\", \"Ahmet\"],\n",
    "    \"Yaş\": [20, 21, 19, 22, 20],\n",
    "    \"Bölüm\": [\"Bilgisayar\", \"Fizik\", \"Kimya\", \"Bilgisayar\", \"Fizik\"],\n",
    "    \"Matematik\": [70, 60, 80, 90, 55],\n",
    "    \"Fizik\": [65, 75, 70, 85, 60],\n",
    "    \"Kimya\": [80, 85, 65, 95, 70]\n",
    "}\n",
    "df=pd.DataFrame(data)\n",
    "df\n"
   ]
  },
  {
   "cell_type": "code",
   "execution_count": 31,
   "id": "19d61a1a-5e9a-4b91-b853-70b2642dcc8c",
   "metadata": {},
   "outputs": [
    {
     "name": "stdout",
     "output_type": "stream",
     "text": [
      "Matematik dersin ortalaması 71.0\n",
      "Fizik dersin ortalaması 71.0\n",
      "Kimya dersin ortalaması 79.0\n"
     ]
    }
   ],
   "source": [
    "#DERS Ortalamaları\n",
    "ders_ortalamaları = df[['Matematik','Fizik','Kimya']].mean()\n",
    "\n",
    "for ders, ortalama in ders_ortalamaları.items():\n",
    "    print(f'{ders} dersin ortalaması {ortalama}')"
   ]
  },
  {
   "cell_type": "code",
   "execution_count": 33,
   "id": "ebe60108-d224-4db4-8d34-a1f930056817",
   "metadata": {},
   "outputs": [
    {
     "data": {
      "text/plain": [
       "Matematik    71.0\n",
       "Fizik        71.0\n",
       "Kimya        79.0\n",
       "dtype: float64"
      ]
     },
     "execution_count": 33,
     "metadata": {},
     "output_type": "execute_result"
    }
   ],
   "source": [
    "ders_ortalamaları"
   ]
  },
  {
   "cell_type": "code",
   "execution_count": 35,
   "id": "291b4022-1079-4195-be44-d27b0f814348",
   "metadata": {},
   "outputs": [
    {
     "data": {
      "text/plain": [
       "Öğrenci          Zeynep\n",
       "Yaş                  22\n",
       "Bölüm        Bilgisayar\n",
       "Matematik            90\n",
       "Fizik                85\n",
       "Kimya                95\n",
       "Name: 3, dtype: object"
      ]
     },
     "execution_count": 35,
     "metadata": {},
     "output_type": "execute_result"
    }
   ],
   "source": [
    "# en yüksek matematik notunu alan ögrenci\n",
    "\n",
    "en_yuksek_mat_id = df['Matematik'].idxmax()\n",
    "en_yuksek_not = df.loc[en_yuksek_mat_id]\n",
    "en_yuksek_not"
   ]
  },
  {
   "cell_type": "code",
   "execution_count": 37,
   "id": "1be035a8-184a-48d8-8090-c9cb808171a9",
   "metadata": {},
   "outputs": [
    {
     "data": {
      "text/html": [
       "<div>\n",
       "<style scoped>\n",
       "    .dataframe tbody tr th:only-of-type {\n",
       "        vertical-align: middle;\n",
       "    }\n",
       "\n",
       "    .dataframe tbody tr th {\n",
       "        vertical-align: top;\n",
       "    }\n",
       "\n",
       "    .dataframe thead th {\n",
       "        text-align: right;\n",
       "    }\n",
       "</style>\n",
       "<table border=\"1\" class=\"dataframe\">\n",
       "  <thead>\n",
       "    <tr style=\"text-align: right;\">\n",
       "      <th></th>\n",
       "      <th>Öğrenci</th>\n",
       "      <th>Yaş</th>\n",
       "      <th>Bölüm</th>\n",
       "      <th>Matematik</th>\n",
       "      <th>Fizik</th>\n",
       "      <th>Kimya</th>\n",
       "      <th>Not Ortalaması</th>\n",
       "    </tr>\n",
       "  </thead>\n",
       "  <tbody>\n",
       "    <tr>\n",
       "      <th>0</th>\n",
       "      <td>Ali</td>\n",
       "      <td>20</td>\n",
       "      <td>Bilgisayar</td>\n",
       "      <td>70</td>\n",
       "      <td>65</td>\n",
       "      <td>80</td>\n",
       "      <td>71.666667</td>\n",
       "    </tr>\n",
       "    <tr>\n",
       "      <th>1</th>\n",
       "      <td>Ayşe</td>\n",
       "      <td>21</td>\n",
       "      <td>Fizik</td>\n",
       "      <td>60</td>\n",
       "      <td>75</td>\n",
       "      <td>85</td>\n",
       "      <td>73.333333</td>\n",
       "    </tr>\n",
       "    <tr>\n",
       "      <th>2</th>\n",
       "      <td>Mehmet</td>\n",
       "      <td>19</td>\n",
       "      <td>Kimya</td>\n",
       "      <td>80</td>\n",
       "      <td>70</td>\n",
       "      <td>65</td>\n",
       "      <td>71.666667</td>\n",
       "    </tr>\n",
       "    <tr>\n",
       "      <th>3</th>\n",
       "      <td>Zeynep</td>\n",
       "      <td>22</td>\n",
       "      <td>Bilgisayar</td>\n",
       "      <td>90</td>\n",
       "      <td>85</td>\n",
       "      <td>95</td>\n",
       "      <td>90.000000</td>\n",
       "    </tr>\n",
       "    <tr>\n",
       "      <th>4</th>\n",
       "      <td>Ahmet</td>\n",
       "      <td>20</td>\n",
       "      <td>Fizik</td>\n",
       "      <td>55</td>\n",
       "      <td>60</td>\n",
       "      <td>70</td>\n",
       "      <td>61.666667</td>\n",
       "    </tr>\n",
       "  </tbody>\n",
       "</table>\n",
       "</div>"
      ],
      "text/plain": [
       "  Öğrenci  Yaş       Bölüm  Matematik  Fizik  Kimya  Not Ortalaması\n",
       "0     Ali   20  Bilgisayar         70     65     80       71.666667\n",
       "1    Ayşe   21       Fizik         60     75     85       73.333333\n",
       "2  Mehmet   19       Kimya         80     70     65       71.666667\n",
       "3  Zeynep   22  Bilgisayar         90     85     95       90.000000\n",
       "4   Ahmet   20       Fizik         55     60     70       61.666667"
      ]
     },
     "execution_count": 37,
     "metadata": {},
     "output_type": "execute_result"
    }
   ],
   "source": [
    "# Her ögrencinin ortalamasını yeni kolon olarak ekleyiniz.\n",
    "df['Not Ortalaması'] = df [['Matematik','Fizik','Kimya']].mean(axis=1)\n",
    "df"
   ]
  },
  {
   "cell_type": "code",
   "execution_count": 39,
   "id": "52e2dc94-dd5f-4acb-9d64-f8cb1bd4737a",
   "metadata": {},
   "outputs": [
    {
     "data": {
      "text/html": [
       "<div>\n",
       "<style scoped>\n",
       "    .dataframe tbody tr th:only-of-type {\n",
       "        vertical-align: middle;\n",
       "    }\n",
       "\n",
       "    .dataframe tbody tr th {\n",
       "        vertical-align: top;\n",
       "    }\n",
       "\n",
       "    .dataframe thead th {\n",
       "        text-align: right;\n",
       "    }\n",
       "</style>\n",
       "<table border=\"1\" class=\"dataframe\">\n",
       "  <thead>\n",
       "    <tr style=\"text-align: right;\">\n",
       "      <th></th>\n",
       "      <th>Matematik</th>\n",
       "      <th>Fizik</th>\n",
       "      <th>Kimya</th>\n",
       "      <th>Not Ortalaması</th>\n",
       "    </tr>\n",
       "    <tr>\n",
       "      <th>Bölüm</th>\n",
       "      <th></th>\n",
       "      <th></th>\n",
       "      <th></th>\n",
       "      <th></th>\n",
       "    </tr>\n",
       "  </thead>\n",
       "  <tbody>\n",
       "    <tr>\n",
       "      <th>Bilgisayar</th>\n",
       "      <td>80.0</td>\n",
       "      <td>75.0</td>\n",
       "      <td>87.5</td>\n",
       "      <td>80.83</td>\n",
       "    </tr>\n",
       "    <tr>\n",
       "      <th>Fizik</th>\n",
       "      <td>57.5</td>\n",
       "      <td>67.5</td>\n",
       "      <td>77.5</td>\n",
       "      <td>67.50</td>\n",
       "    </tr>\n",
       "    <tr>\n",
       "      <th>Kimya</th>\n",
       "      <td>80.0</td>\n",
       "      <td>70.0</td>\n",
       "      <td>65.0</td>\n",
       "      <td>71.67</td>\n",
       "    </tr>\n",
       "  </tbody>\n",
       "</table>\n",
       "</div>"
      ],
      "text/plain": [
       "            Matematik  Fizik  Kimya  Not Ortalaması\n",
       "Bölüm                                              \n",
       "Bilgisayar       80.0   75.0   87.5           80.83\n",
       "Fizik            57.5   67.5   77.5           67.50\n",
       "Kimya            80.0   70.0   65.0           71.67"
      ]
     },
     "execution_count": 39,
     "metadata": {},
     "output_type": "execute_result"
    }
   ],
   "source": [
    "bolum_ort = df.groupby('Bölüm')[['Matematik','Fizik','Kimya','Not Ortalaması']].mean()\n",
    "bolum_ort.round(2)"
   ]
  },
  {
   "cell_type": "code",
   "execution_count": 41,
   "id": "f4e0ab8c-8402-4200-9f85-ffce6fd8ad77",
   "metadata": {},
   "outputs": [
    {
     "data": {
      "text/html": [
       "<div>\n",
       "<style scoped>\n",
       "    .dataframe tbody tr th:only-of-type {\n",
       "        vertical-align: middle;\n",
       "    }\n",
       "\n",
       "    .dataframe tbody tr th {\n",
       "        vertical-align: top;\n",
       "    }\n",
       "\n",
       "    .dataframe thead th {\n",
       "        text-align: right;\n",
       "    }\n",
       "</style>\n",
       "<table border=\"1\" class=\"dataframe\">\n",
       "  <thead>\n",
       "    <tr style=\"text-align: right;\">\n",
       "      <th></th>\n",
       "      <th>Öğrenci</th>\n",
       "      <th>Yaş</th>\n",
       "      <th>Bölüm</th>\n",
       "      <th>Matematik</th>\n",
       "      <th>Fizik</th>\n",
       "      <th>Kimya</th>\n",
       "      <th>Not Ortalaması</th>\n",
       "    </tr>\n",
       "  </thead>\n",
       "  <tbody>\n",
       "    <tr>\n",
       "      <th>0</th>\n",
       "      <td>Ali</td>\n",
       "      <td>20</td>\n",
       "      <td>Bilgisayar</td>\n",
       "      <td>70</td>\n",
       "      <td>65</td>\n",
       "      <td>80</td>\n",
       "      <td>71.666667</td>\n",
       "    </tr>\n",
       "    <tr>\n",
       "      <th>1</th>\n",
       "      <td>Ayşe</td>\n",
       "      <td>21</td>\n",
       "      <td>Fizik</td>\n",
       "      <td>60</td>\n",
       "      <td>75</td>\n",
       "      <td>85</td>\n",
       "      <td>73.333333</td>\n",
       "    </tr>\n",
       "    <tr>\n",
       "      <th>2</th>\n",
       "      <td>Mehmet</td>\n",
       "      <td>19</td>\n",
       "      <td>Kimya</td>\n",
       "      <td>80</td>\n",
       "      <td>70</td>\n",
       "      <td>65</td>\n",
       "      <td>71.666667</td>\n",
       "    </tr>\n",
       "    <tr>\n",
       "      <th>3</th>\n",
       "      <td>Zeynep</td>\n",
       "      <td>22</td>\n",
       "      <td>Bilgisayar</td>\n",
       "      <td>90</td>\n",
       "      <td>85</td>\n",
       "      <td>95</td>\n",
       "      <td>90.000000</td>\n",
       "    </tr>\n",
       "  </tbody>\n",
       "</table>\n",
       "</div>"
      ],
      "text/plain": [
       "  Öğrenci  Yaş       Bölüm  Matematik  Fizik  Kimya  Not Ortalaması\n",
       "0     Ali   20  Bilgisayar         70     65     80       71.666667\n",
       "1    Ayşe   21       Fizik         60     75     85       73.333333\n",
       "2  Mehmet   19       Kimya         80     70     65       71.666667\n",
       "3  Zeynep   22  Bilgisayar         90     85     95       90.000000"
      ]
     },
     "execution_count": 41,
     "metadata": {},
     "output_type": "execute_result"
    }
   ],
   "source": [
    "basarili = df[df['Not Ortalaması']>70]\n",
    "basarili"
   ]
  },
  {
   "cell_type": "code",
   "execution_count": 44,
   "id": "784a06ee-31a9-4ac9-9883-c6b2eccbac71",
   "metadata": {},
   "outputs": [
    {
     "data": {
      "image/png": "[encoded data removed]",
      "text/plain": [
       "<Figure size 1200x500 with 3 Axes>"
      ]
     },
     "metadata": {},
     "output_type": "display_data"
    }
   ],
   "source": [
    "import matplotlib.pyplot as plt\n",
    "import seaborn as sns\n",
    "\n",
    "plt.figure(figsize=(12, 5))\n",
    "for i, ders in enumerate([\"Matematik\", \"Fizik\", \"Kimya\"], 1):\n",
    "    plt.subplot(1, 3, i)\n",
    "    sns.histplot(df[ders], bins=15, kde=True)\n",
    "    plt.title(f\"{ders} Dağılımı\")\n",
    "plt.tight_layout()\n",
    "plt.show()\n"
   ]
  },
  {
   "cell_type": "code",
   "execution_count": 48,
   "id": "d834a76c-d86b-4381-b5ab-b3f7c0b0895c",
   "metadata": {},
   "outputs": [
    {
     "data": {
      "image/png": "[encoded data removed]",
      "text/plain": [
       "<Figure size 800x500 with 1 Axes>"
      ]
     },
     "metadata": {},
     "output_type": "display_data"
    }
   ],
   "source": [
    "# ---------------- Bölüm ortalamaları ----------------\n",
    "ortalama_df = df.groupby(\"Bölüm\")[[\"Matematik\", \"Fizik\", \"Kimya\"]].mean().reset_index()\n",
    "\n",
    "ortalama_df_melt = ortalama_df.melt(id_vars=\"Bölüm\", var_name=\"Ders\", value_name=\"Ortalama\")\n",
    "\n",
    "plt.figure(figsize=(8, 5))\n",
    "sns.barplot(data=ortalama_df_melt, x=\"Ders\", y=\"Ortalama\", hue=\"Bölüm\")\n",
    "plt.title(\"Bölümlere Göre Ortalama Puanlar\")\n",
    "plt.show()\n"
   ]
  },
  {
   "cell_type": "code",
   "execution_count": null,
   "id": "40b90450-e581-440f-b693-69c17ec33c92",
   "metadata": {},
   "outputs": [],
   "source": []
  }
 ],
 "metadata": {
  "kernelspec": {
   "display_name": "Python 3 (ipykernel)",
   "language": "python",
   "name": "python3"
  },
  "language_info": {
   "codemirror_mode": {
    "name": "ipython",
    "version": 3
   },
   "file_extension": ".py",
   "mimetype": "text/x-python",
   "name": "python",
   "nbconvert_exporter": "python",
   "pygments_lexer": "ipython3",
   "version": "3.12.7"
  }
 },
 "nbformat": 4,
 "nbformat_minor": 5
}
