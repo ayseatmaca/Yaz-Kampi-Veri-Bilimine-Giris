{
 "cells": [
  {
   "cell_type": "raw",
   "id": "85f9cc5d-b87d-4040-83d3-3113efe43ad6",
   "metadata": {},
   "source": [
    "Proje – “Kitap Satış Analiz Sistemi”\n",
    "Bir yayınevinin farklı türlerde ve yazarlarda kitapları var. Örnek veri:\n",
    "kitaplar = [\n",
    " {\"isim\": \"Veri Bilimi 101\", \"yazar\": \"Ali\", \"tur\": \"Bilim\", \"satis\": 1200, \"yil\": 2021},\n",
    " {\"isim\": \"Python ile Yapay Zeka\", \"yazar\": \"Ayşe\", \"tur\": \"Bilim\", \"satis\": 950, \"yil\": \n",
    "2020},\n",
    " {\"isim\": \"İstatistik Temelleri\", \"yazar\": \"Ali\", \"tur\": \"Akademik\", \"satis\": 700, \"yil\": 2019},\n",
    " {\"isim\": \"Makine Öğrenmesi\", \"yazar\": \"Can\", \"tur\": \"Bilim\", \"satis\": 1800, \"yil\": 2022},\n",
    " {\"isim\": \"Veri Görselleştirme\", \"yazar\": \"Deniz\", \"tur\": \"Sanat\", \"satis\": 400, \"yil\": 2018},\n",
    " {\"isim\": \"Matematiksel Modelleme\", \"yazar\": \"Ali\", \"tur\": \"Akademik\", \"satis\": 1500, \n",
    "\"yil\": 2021},\n",
    " {\"isim\": \"Bilgi Toplumu\", \"yazar\": \"Ayşe\", \"tur\": \"Sosyal\", \"satis\": 600, \"yil\": 2022}\n",
    "]\n",
    "Yapılması Gerekenler:\n",
    "1. Fonksiyon Yazma:\n",
    "o en_cok_satan(kitaplar) → En çok satan kitabın bilgilerini döndürsün.\n",
    "o yazar_satislari(kitaplar) → Her yazarın toplam satışını bir sözlük olarak \n",
    "döndürsün.\n",
    "2. Liste ve Küme İşlemleri:\n",
    "o Tüm kitap türlerini (tur) küme halinde çıkarın (tekrar eden türler olmadan).\n",
    "o Satış adedi 1000’den fazla olan kitapların isimlerini bir listede toplayın.\n",
    "3. Lambda / Filter / Map Kullanımı:\n",
    "o filter ile 2020’den sonra çıkan kitapları süzün.\n",
    "o map ile tüm satış adetlerini %10 artırılmış şekilde yeni bir listeye aktarın.\n",
    "o sorted + lambda ile kitapları satış miktarına göre azalan şekilde sıralayın.\n",
    "4. İstatistiksel Analiz:\n",
    "o Ortalama satış adedini bulun.\n",
    "o En çok satış yapan türü bulun.\n",
    "o Satışların standart sapmasını hesaplamak için statistics modülünü kullanın.\n",
    "5. Ekstra (Zorlayıcı): Train/Test Simülasyonu\n",
    "o Kitap listesini rastgele %70 eğitim (train), %30 test verisine ayırın \n",
    "(random.sample).\n",
    "o Eğitim verisinden yazarların ortalama satışını hesaplayın.\n",
    "o Test verisinde, hangi kitapların satışlarının bu ortalamanın üzerinde olduğunu \n",
    "kontrol edin.\n",
    "Beklenen Çıktı Örneği\n",
    "• En çok satan kitap: \"Makine Öğrenmesi\"\n",
    "• Yazar satışları: {\"Ali\": 3400, \"Ayşe\": 1550, \"Can\": 1800, \"Deniz\": 400}\n",
    "• Türler: {\"Bilim\", \"Akademik\", \"Sanat\", \"Sosyal\"}\n",
    "• 1000’den fazla satan kitaplar: [\"Veri Bilimi 101\", \"Makine Öğrenmesi\", \n",
    "\"Matematiksel Modelleme\"]\n",
    "• Ortalama satış: 1021.4\n",
    "• Standart sapma: ~480.2\n",
    "• Eğitim/ Test ayırımı sonrası analiz:\n",
    "Analizde Sizden Beklenen:\n",
    "• Veriyi uygun oranlarda ayırın (örneğin %70 train, %30 test).\n",
    "• Train seti üzerinde basit analizler yapın (ortalama, sıklık, vs.).\n",
    "• Test seti üzerinde aynı analizleri tekrarlayın.\n",
    "• Sonuçları karşılaştırın ve kısa yorum ekleyin.\n"
   ]
  },
  {
   "cell_type": "markdown",
   "id": "84c6d534-4eb7-406e-8622-4d40866e8c8a",
   "metadata": {},
   "source": [
    "# 1. Fonksiyon Yazma:"
   ]
  },
  {
   "cell_type": "code",
   "execution_count": 31,
   "id": "7cc77d73-8a1f-4a93-9fc4-7bbd353210f8",
   "metadata": {},
   "outputs": [],
   "source": [
    "import statistics\n",
    "import random\n",
    "\n",
    "kitaplar = [\n",
    "    {\"isim\": \"Veri Bilimi 101\", \"yazar\": \"Ali\", \"tur\": \"Bilim\", \"satis\": 1200, \"yil\": 2021},\n",
    "    {\"isim\": \"Python ile Yapay Zeka\", \"yazar\": \"Ayşe\", \"tur\": \"Bilim\", \"satis\": 950, \"yil\": 2020},\n",
    "    {\"isim\": \"İstatistik Temelleri\", \"yazar\": \"Ali\", \"tur\": \"Akademik\", \"satis\": 700, \"yil\": 2019},\n",
    "    {\"isim\": \"Makine Öğrenmesi\", \"yazar\": \"Can\", \"tur\": \"Bilim\", \"satis\": 1800, \"yil\": 2022},\n",
    "    {\"isim\": \"Veri Görselleştirme\", \"yazar\": \"Deniz\", \"tur\": \"Sanat\", \"satis\": 400, \"yil\": 2018},\n",
    "    {\"isim\": \"Matematiksel Modelleme\", \"yazar\": \"Ali\", \"tur\": \"Akademik\", \"satis\": 1500, \"yil\": 2021},\n",
    "    {\"isim\": \"Bilgi Toplumu\", \"yazar\": \"Ayşe\", \"tur\": \"Sosyal\", \"satis\": 600, \"yil\": 2022}\n",
    "]\n",
    "\n",
    "# 1a) En çok satan kitap\n",
    "def en_cok_satan(kitaplar):\n",
    "    return max(kitaplar, key=lambda x: x[\"satis\"])\n",
    "\n",
    "# 1b) Yazar satışları\n",
    "def yazar_satislari(kitaplar):\n",
    "    satislar = {}\n",
    "    for k in kitaplar:\n",
    "        satislar[k[\"yazar\"]] = satislar.get(k[\"yazar\"], 0) + k[\"satis\"]\n",
    "    return satislar\n"
   ]
  },
  {
   "cell_type": "markdown",
   "id": "ca554d04-2d81-4a1d-9ada-cb626d84b858",
   "metadata": {},
   "source": [
    "# 2. Liste ve Küme İşlemleri"
   ]
  },
  {
   "cell_type": "code",
   "execution_count": 33,
   "id": "7576ea03-1669-4671-a142-1823c2695566",
   "metadata": {},
   "outputs": [],
   "source": [
    "# Türler (küme)\n",
    "turler = {k[\"tur\"] for k in kitaplar}\n",
    "\n",
    "# 1000’den fazla satan kitaplar\n",
    "best_sellers = [k[\"isim\"] for k in kitaplar if k[\"satis\"] > 1000]\n"
   ]
  },
  {
   "cell_type": "markdown",
   "id": "fce21b39-793f-483c-8855-92639a4f05b6",
   "metadata": {},
   "source": [
    "# 3. Lambda / Filter / Map"
   ]
  },
  {
   "cell_type": "code",
   "execution_count": 35,
   "id": "d96231d3-5b88-4bed-b7b8-ba87aa870403",
   "metadata": {},
   "outputs": [],
   "source": [
    "# 2020’den sonra çıkan kitaplar\n",
    "yeni_kitaplar = list(filter(lambda k: k[\"yil\"] > 2020, kitaplar))\n",
    "\n",
    "# Satışları %10 artır\n",
    "arttirilmis = list(map(lambda k: k[\"satis\"] * 1.1, kitaplar))\n",
    "\n",
    "# Satışa göre azalan sıralama\n",
    "sirali = sorted(kitaplar, key=lambda k: k[\"satis\"], reverse=True)\n"
   ]
  },
  {
   "cell_type": "markdown",
   "id": "084b6b30-9ced-4e86-bccb-2c0ed105dcde",
   "metadata": {},
   "source": [
    "# 4. İstatistiksel Analiz"
   ]
  },
  {
   "cell_type": "code",
   "execution_count": 37,
   "id": "cdd4b792-bb0d-4d74-b360-d0a4cdafa884",
   "metadata": {},
   "outputs": [],
   "source": [
    "satislar = [k[\"satis\"] for k in kitaplar]\n",
    "\n",
    "ortalama = statistics.mean(satislar)\n",
    "std_sapma = statistics.stdev(satislar)\n",
    "\n",
    "# En çok satış yapan tür\n",
    "tur_satislari = {}\n",
    "for k in kitaplar:\n",
    "    tur_satislari[k[\"tur\"]] = tur_satislari.get(k[\"tur\"], 0) + k[\"satis\"]\n",
    "\n",
    "en_cok_tur = max(tur_satislari, key=tur_satislari.get)\n"
   ]
  },
  {
   "cell_type": "markdown",
   "id": "df379630-2170-4a24-b15d-910b4afbd072",
   "metadata": {},
   "source": [
    "# 5. Ekstra – Train/Test Simülasyonu"
   ]
  },
  {
   "cell_type": "code",
   "execution_count": 39,
   "id": "5c399731-4182-4602-bac0-62393413924e",
   "metadata": {},
   "outputs": [],
   "source": [
    "# %70 eğitim, %30 test\n",
    "train_size = int(len(kitaplar) * 0.7)\n",
    "train = random.sample(kitaplar, train_size)\n",
    "test = [k for k in kitaplar if k not in train]\n",
    "\n",
    "# Eğitimde yazarların ortalama satışları\n",
    "train_satislar = [k[\"satis\"] for k in train]\n",
    "train_ortalama = statistics.mean(train_satislar)\n",
    "\n",
    "# Testte ortalamanın üzerinde olanlar\n",
    "ustte_olan = [k[\"isim\"] for k in test if k[\"satis\"] > train_ortalama]\n"
   ]
  },
  {
   "cell_type": "markdown",
   "id": "646dba11-76a3-43fc-84f5-b63e3874f097",
   "metadata": {},
   "source": [
    "# Örnek Çalıştırma Sonucu"
   ]
  },
  {
   "cell_type": "code",
   "execution_count": 41,
   "id": "17f8c3c6-f8f5-4ded-89d8-69fbad309dc8",
   "metadata": {},
   "outputs": [
    {
     "name": "stdout",
     "output_type": "stream",
     "text": [
      "En çok satan kitap: Makine Öğrenmesi\n",
      "Yazar satışları: {'Ali': 3400, 'Ayşe': 1550, 'Can': 1800, 'Deniz': 400}\n",
      "Türler: {'Bilim', 'Sosyal', 'Akademik', 'Sanat'}\n",
      "1000’den fazla satan kitaplar: ['Veri Bilimi 101', 'Makine Öğrenmesi', 'Matematiksel Modelleme']\n",
      "Ortalama satış: 1021.4285714285714\n",
      "Standart sapma: 506.5053001179939\n",
      "En çok satış yapan tür: Bilim\n",
      "Eğitim ortalaması: 962.5\n",
      "Test setinde ortalama üstü kitaplar: ['Veri Bilimi 101', 'Matematiksel Modelleme']\n"
     ]
    }
   ],
   "source": [
    "# Örnek çıktıları yazdır\n",
    "print(\"En çok satan kitap:\", en_cok_satan(kitaplar)[\"isim\"])\n",
    "print(\"Yazar satışları:\", yazar_satislari(kitaplar))\n",
    "print(\"Türler:\", turler)\n",
    "print(\"1000’den fazla satan kitaplar:\", best_sellers)\n",
    "print(\"Ortalama satış:\", ortalama)\n",
    "print(\"Standart sapma:\", std_sapma)\n",
    "print(\"En çok satış yapan tür:\", en_cok_tur)\n",
    "print(\"Eğitim ortalaması:\", train_ortalama)\n",
    "print(\"Test setinde ortalama üstü kitaplar:\", ustte_olan)\n",
    "\n"
   ]
  },
  {
   "cell_type": "code",
   "execution_count": null,
   "id": "a049a996-b7ef-4b4d-9777-c61142829918",
   "metadata": {},
   "outputs": [],
   "source": []
  }
 ],
 "metadata": {
  "kernelspec": {
   "display_name": "Python 3 (ipykernel)",
   "language": "python",
   "name": "python3"
  },
  "language_info": {
   "codemirror_mode": {
    "name": "ipython",
    "version": 3
   },
   "file_extension": ".py",
   "mimetype": "text/x-python",
   "name": "python",
   "nbconvert_exporter": "python",
   "pygments_lexer": "ipython3",
   "version": "3.12.7"
  }
 },
 "nbformat": 4,
 "nbformat_minor": 5
}
