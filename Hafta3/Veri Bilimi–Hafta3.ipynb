{
 "cells": [
  {
   "cell_type": "raw",
   "id": "15c4a28b-00c8-4e7d-9211-c5403a47a79a",
   "metadata": {},
   "source": [
    "# Hedefler:\n",
    "• İleri seviye veri yapılarıyla (liste, sözlük, küme) rahatça çalışabilmesi,\n",
    "• Fonksiyonlar, lambda ve gömülü fonksiyonları etkin kullanabilmesi,\n",
    "• Modüller ve temel istatistiksel hesaplamaları uygulayabilmesi,\n",
    "• Kodlarını düzenli ve okunabilir şekilde yazabilmesi,\n",
    "• Basit bir veri analizi sürecini baştan sona gerçekleştirebilmesi beklenmektedir."
   ]
  },
  {
   "cell_type": "markdown",
   "id": "12a64e7a-ec1d-4ad0-ab3d-71f6e2d33aa4",
   "metadata": {},
   "source": [
    "# Soru 1 – Liste Metotları"
   ]
  },
  {
   "cell_type": "code",
   "execution_count": 2,
   "id": "cc670393-9696-4ffd-83ff-23d68c61264e",
   "metadata": {},
   "outputs": [
    {
     "name": "stdout",
     "output_type": "stream",
     "text": [
      "Benzersiz notlar: [100, 92, 85, 76]\n",
      "Benzersiz notlar: [100, 92, 85, 76]\n",
      "En yüksek not: 100\n",
      "En düşük not: 76\n",
      "Sıralı notlar: [76, 76, 85, 85, 92, 92, 92, 100]\n"
     ]
    }
   ],
   "source": [
    "notlar = [85, 92, 76, 92, 100, 76, 85, 92]\n",
    "#Python’da set() kullanarak tekrarları silebiliriz, sonra tekrar listeye çevirebiliriz:\n",
    "benzersiz = list(set(notlar))\n",
    "print(\"Benzersiz notlar:\", benzersiz)\n",
    "benzersiz = list(set(notlar))\n",
    "print(\"Benzersiz notlar:\", benzersiz)\n",
    "#max() ve min() fonksiyonları\n",
    "en_yuksek = max(notlar)\n",
    "en_dusuk = min(notlar)\n",
    "print(\"En yüksek not:\", en_yuksek)\n",
    "print(\"En düşük not:\", en_dusuk)\n",
    "#sorted() fonksiyonu\n",
    "sirali = sorted(notlar)\n",
    "print(\"Sıralı notlar:\", sirali)\n"
   ]
  },
  {
   "cell_type": "markdown",
   "id": "68872788-fab0-40e6-9b11-26a08a77b0e7",
   "metadata": {},
   "source": [
    "# Soru 2 – Sayılar"
   ]
  },
  {
   "cell_type": "code",
   "execution_count": 5,
   "id": "d31cac5b-5949-4a23-b376-43657825bb26",
   "metadata": {},
   "outputs": [
    {
     "name": "stdout",
     "output_type": "stream",
     "text": [
      "True\n",
      "True\n"
     ]
    }
   ],
   "source": [
    "def armstrong_mu(sayi):\n",
    "    # Sayıyı stringe çevirip basamaklarını alıyoruz\n",
    "    basamaklar = [int(x) for x in str(sayi)]\n",
    "    \n",
    "    # Her basamağın küpünü alıp topluyoruz\n",
    "    toplam = sum([b**3 for b in basamaklar])\n",
    "    \n",
    "    # Armstrong kontrolü\n",
    "    if toplam == sayi:\n",
    "        return True\n",
    "    else:\n",
    "        return False\n",
    "\n",
    "\n",
    "# Örnek kullanım\n",
    "print(armstrong_mu(153)) \n",
    "print(armstrong_mu(370))  "
   ]
  },
  {
   "cell_type": "markdown",
   "id": "33eb2a18-4e9f-4180-bcb0-ca61817d8a65",
   "metadata": {},
   "source": [
    "# Soru 3 – Kümeler"
   ]
  },
  {
   "cell_type": "code",
   "execution_count": 8,
   "id": "e6c78522-f0a8-4cbc-b950-aa52ebd01d18",
   "metadata": {},
   "outputs": [
    {
     "name": "stdout",
     "output_type": "stream",
     "text": [
      "Ortak diller: {'Python', 'SQL'}\n",
      "Sadece A’da olan diller: {'R', 'Java'}\n",
      "Birleşim (alfabetik): ['C++', 'Java', 'JavaScript', 'Python', 'R', 'SQL']\n"
     ]
    }
   ],
   "source": [
    "A = {\"Python\", \"R\", \"SQL\", \"Java\"}\n",
    "B = {\"C++\", \"Python\", \"JavaScript\", \"SQL\"}\n",
    "\n",
    "# 1) Ortak diller\n",
    "ortak = A & B\n",
    "print(\"Ortak diller:\", ortak)\n",
    "\n",
    "# 2) Sadece A’da olanlar\n",
    "sadece_A = A - B\n",
    "print(\"Sadece A’da olan diller:\", sadece_A)\n",
    "\n",
    "# 3) Birleşim (alfabetik)\n",
    "birlesim = sorted(A | B)\n",
    "print(\"Birleşim (alfabetik):\", birlesim)\n"
   ]
  },
  {
   "cell_type": "markdown",
   "id": "5603dc78-2131-4501-a916-d98dbc34985f",
   "metadata": {},
   "source": [
    "# Soru 4 – Modüller"
   ]
  },
  {
   "cell_type": "code",
   "execution_count": 11,
   "id": "dbbf9261-89f1-4d8a-ae53-1f1b91ba64bb",
   "metadata": {},
   "outputs": [
    {
     "name": "stdout",
     "output_type": "stream",
     "text": [
      "Rastgele sayılar: [46, 45, 6, 63, 61, 17, 6, 26, 74, 35]\n",
      "Ortalama: 37.9\n",
      "Standart sapma: 24.048330965416753\n"
     ]
    }
   ],
   "source": [
    "import random\n",
    "import statistics\n",
    "\n",
    "# 1) 1–100 arasında 10 rastgele sayı üret\n",
    "sayilar = [random.randint(1, 100) for _ in range(10)]\n",
    "print(\"Rastgele sayılar:\", sayilar)\n",
    "\n",
    "# 2) Ortalamayı hesapla\n",
    "ortalama = statistics.mean(sayilar)\n",
    "print(\"Ortalama:\", ortalama)\n",
    "\n",
    "# 3) Standart sapmayı hesapla\n",
    "std_sapma = statistics.stdev(sayilar)\n",
    "print(\"Standart sapma:\", std_sapma)\n"
   ]
  },
  {
   "cell_type": "markdown",
   "id": "ca2a70c0-c48c-416e-ac27-6c3ddd4d12c6",
   "metadata": {},
   "source": [
    "# Soru 5 – Fonksiyonlar"
   ]
  },
  {
   "cell_type": "code",
   "execution_count": 14,
   "id": "6031d7f3-27ed-4775-b119-0261890218c2",
   "metadata": {},
   "outputs": [
    {
     "name": "stdout",
     "output_type": "stream",
     "text": [
      "Toplam kelime sayısı: 7\n",
      "En uzun kelime: eğlenceli\n",
      "En sık geçen kelime: Python\n"
     ]
    }
   ],
   "source": [
    "def kelime_sayaci(metin):\n",
    "    # Noktalama işaretlerini temizleyelim (basit çözüm)\n",
    "    for nok in \",.!?;:\":\n",
    "        metin = metin.replace(nok, \"\")\n",
    "    \n",
    "    # Metni kelimelere ayır\n",
    "    kelimeler = metin.split()\n",
    "    \n",
    "    # 1) Toplam kelime sayısı\n",
    "    toplam = len(kelimeler)\n",
    "    \n",
    "    # 2) En uzun kelime\n",
    "    en_uzun = max(kelimeler, key=len)\n",
    "    \n",
    "    # 3) En sık geçen kelime\n",
    "    # count ile her kelimenin kaç kez geçtiğini say\n",
    "    en_sik = max(kelimeler, key=kelimeler.count)\n",
    "    \n",
    "    return toplam, en_uzun, en_sik\n",
    "\n",
    "\n",
    "# Örnek kullanım\n",
    "metin = \"Python çok güzel, Python öğrenmek çok eğlenceli!\"\n",
    "sonuc = kelime_sayaci(metin)\n",
    "\n",
    "print(\"Toplam kelime sayısı:\", sonuc[0])\n",
    "print(\"En uzun kelime:\", sonuc[1])\n",
    "print(\"En sık geçen kelime:\", sonuc[2])\n"
   ]
  },
  {
   "cell_type": "markdown",
   "id": "923e1f6d-c7ff-4c7c-9c16-dfec614df0a5",
   "metadata": {},
   "source": [
    "# Soru 6 – Gömülü Fonksiyonlar"
   ]
  },
  {
   "cell_type": "code",
   "execution_count": 17,
   "id": "5a5ebde5-e0fb-4153-8d95-c8d462ec9a71",
   "metadata": {},
   "outputs": [
    {
     "name": "stdout",
     "output_type": "stream",
     "text": [
      "Çift sayılar: [12, 18, 24, 16]\n",
      "Kareleri: [144, 324, 576, 256]\n",
      "Azalan sırada: [576, 324, 256, 144]\n"
     ]
    }
   ],
   "source": [
    "sayilar = [5, 12, 7, 18, 24, 3, 16]\n",
    "\n",
    "# 1) Çift sayıları filtrele\n",
    "ciftler = list(filter(lambda x: x % 2 == 0, sayilar))\n",
    "print(\"Çift sayılar:\", ciftler)\n",
    "\n",
    "# 2) Karelerini bul\n",
    "kareler = list(map(lambda x: x**2, ciftler))\n",
    "print(\"Kareleri:\", kareler)\n",
    "\n",
    "# 3) Azalan sırada sıralama\n",
    "sirali = sorted(kareler, reverse=True)\n",
    "print(\"Azalan sırada:\", sirali)\n"
   ]
  },
  {
   "cell_type": "markdown",
   "id": "fe187f06-fe97-42ad-9c15-2c804e0f548d",
   "metadata": {},
   "source": [
    "# Soru 7 – Lambda İfadeleri"
   ]
  },
  {
   "cell_type": "code",
   "execution_count": 20,
   "id": "1b8a8b74-2071-4733-b89b-a8118261f691",
   "metadata": {},
   "outputs": [
    {
     "name": "stdout",
     "output_type": "stream",
     "text": [
      "['veri', 'bilim', 'analiz', 'python', 'yapayzeka']\n"
     ]
    }
   ],
   "source": [
    "kelimeler = [\"veri\", \"bilim\", \"analiz\", \"yapayzeka\", \"python\"]\n",
    "\n",
    "sirali = sorted(kelimeler, key=lambda x: len(x))\n",
    "\n",
    "print(sirali)\n"
   ]
  },
  {
   "cell_type": "markdown",
   "id": "f24e093b-8719-4b5f-8aed-23920247bf23",
   "metadata": {},
   "source": [
    "# Soru 8 – Metodlar"
   ]
  },
  {
   "cell_type": "code",
   "execution_count": 25,
   "id": "7a1fa352-57dc-45f6-a9b6-afaf11965ee1",
   "metadata": {},
   "outputs": [
    {
     "name": "stdout",
     "output_type": "stream",
     "text": [
      "15\n",
      "168\n",
      "0\n"
     ]
    }
   ],
   "source": [
    "import re\n",
    "\n",
    "def rakam_toplam(metin):\n",
    "    # Metin içindeki sayıları bul (birden fazla rakam olabilir, örn \"12\")\n",
    "    sayilar = re.findall(r\"\\d+\", metin)\n",
    "    \n",
    "    # Sayıları integer'a çevirip topla\n",
    "    toplam = sum(int(s) for s in sayilar)\n",
    "    return toplam\n",
    "\n",
    "#Burada \\d+ ifadesi:\n",
    "#\\d → rakam demek\n",
    "#+ → bir veya daha fazla kez tekrar\n",
    "\n",
    "# Örnek kullanım\n",
    "print(rakam_toplam(\"abc12def3\"))   # 15\n",
    "print(rakam_toplam(\"veri123bilim45\"))  # 168 (123+45)\n",
    "print(rakam_toplam(\"no number\"))   # 0\n"
   ]
  },
  {
   "cell_type": "markdown",
   "id": "10d70c37-312c-41e7-be1e-4b1fbab1a67b",
   "metadata": {},
   "source": [
    "# Soru 9 – (Ekstra) Numpy 1 "
   ]
  },
  {
   "cell_type": "code",
   "execution_count": 30,
   "id": "0c33ccee-c5f8-41d9-8ac0-11862dd033bc",
   "metadata": {},
   "outputs": [
    {
     "name": "stdout",
     "output_type": "stream",
     "text": [
      "Dizi: [ 1  8 42  3 31 31 17 34  6  0]\n",
      "Ortalama: 17.3\n",
      "Standart sapma: 14.993665329064806\n",
      "En büyük değer: 42\n"
     ]
    }
   ],
   "source": [
    "import numpy as np\n",
    "\n",
    "# 1) 0–50 arasında 10 elemanlı rastgele dizi oluştur\n",
    "dizi = np.random.randint(0, 51, size=10)\n",
    "print(\"Dizi:\", dizi)\n",
    "\n",
    "# 2) Ortalama\n",
    "ortalama = np.mean(dizi)\n",
    "print(\"Ortalama:\", ortalama)\n",
    "\n",
    "# 3) Standart sapma\n",
    "std_sapma = np.std(dizi)\n",
    "print(\"Standart sapma:\", std_sapma)\n",
    "\n",
    "# 4) En büyük değer\n",
    "en_buyuk = np.max(dizi)\n",
    "print(\"En büyük değer:\", en_buyuk)\n",
    "#np.random.randint(0, 51, size=10) → 0–50 arasında 10 rastgele tamsayı üretir.\n",
    "#np.mean(dizi) → ortalama\n",
    "#np.std(dizi) → standart sapma\n",
    "#np.max(dizi) → en büyük değer"
   ]
  },
  {
   "cell_type": "markdown",
   "id": "94e07058-e72a-4f69-917b-089d87985cd4",
   "metadata": {},
   "source": [
    "# Soru 10 – (Ekstra) Numpy 2\n"
   ]
  },
  {
   "cell_type": "code",
   "execution_count": 33,
   "id": "e15f3c6e-26c0-4df5-814f-0f518c676570",
   "metadata": {},
   "outputs": [
    {
     "name": "stdout",
     "output_type": "stream",
     "text": [
      "Orijinal matris:\n",
      " [[0.21871717 0.70063332 0.3789098  0.75671419 0.18659971]\n",
      " [0.7872903  0.33649515 0.98115051 0.49646523 0.64854661]\n",
      " [0.00946063 0.27733938 0.79377103 0.67173259 0.84260955]\n",
      " [0.76446572 0.87020518 0.81132262 0.38396094 0.05300296]\n",
      " [0.85436519 0.66303571 0.31700529 0.44264632 0.44186882]]\n",
      "\n",
      "Sütun ortalamaları: [0.5268598  0.56954175 0.65643185 0.55030385 0.43452553]\n",
      "\n",
      "Binary matris:\n",
      " [[0 1 0 1 0]\n",
      " [1 0 1 0 1]\n",
      " [0 0 1 1 1]\n",
      " [1 1 1 0 0]\n",
      " [1 1 0 0 0]]\n"
     ]
    }
   ],
   "source": [
    "import numpy as np\n",
    "\n",
    "# 1) 5x5 boyutunda rastgele 0-1 matrisi oluştur\n",
    "matris = np.random.rand(5,5)\n",
    "print(\"Orijinal matris:\\n\", matris)\n",
    "\n",
    "# 2) Her sütunun ortalamasını bul\n",
    "sutun_ortalamalari = np.mean(matris, axis=0)\n",
    "print(\"\\nSütun ortalamaları:\", sutun_ortalamalari)\n",
    "\n",
    "# 3) 0.5'ten büyük olanları 1, küçük veya eşit olanları 0 yap\n",
    "binary_matris = np.where(matris > 0.5, 1, 0)\n",
    "print(\"\\nBinary matris:\\n\", binary_matris)\n",
    "#np.mean(matris, axis=0) → sütun bazlı ortalama\n",
    "#np.where(matris > 0.5, 1, 0) → koşullu atama ile binary matris oluşturuyor"
   ]
  },
  {
   "cell_type": "code",
   "execution_count": null,
   "id": "413bf2bd-550b-453b-8697-7136112176b8",
   "metadata": {},
   "outputs": [],
   "source": []
  }
 ],
 "metadata": {
  "kernelspec": {
   "display_name": "Python 3 (ipykernel)",
   "language": "python",
   "name": "python3"
  },
  "language_info": {
   "codemirror_mode": {
    "name": "ipython",
    "version": 3
   },
   "file_extension": ".py",
   "mimetype": "text/x-python",
   "name": "python",
   "nbconvert_exporter": "python",
   "pygments_lexer": "ipython3",
   "version": "3.12.7"
  }
 },
 "nbformat": 4,
 "nbformat_minor": 5
}
